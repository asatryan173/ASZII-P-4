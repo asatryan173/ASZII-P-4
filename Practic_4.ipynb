{
  "nbformat": 4,
  "nbformat_minor": 0,
  "metadata": {
    "colab": {
      "provenance": []
    },
    "kernelspec": {
      "name": "python3",
      "display_name": "Python 3"
    },
    "language_info": {
      "name": "python"
    }
  },
  "cells": [
    {
      "cell_type": "markdown",
      "source": [
        "# Практика 4: Атака DeepFool на модели ИИ\n",
        "\n",
        "Выполнил: Асатрян Давид Робертович ББМО-01-23\n",
        "\n",
        "# Цель:\n",
        "Изучить атаку DeepFool, которая предназначена для минимальных изменений в изображениях с целью изменения их классификации. Научиться использовать эту атаку и исследовать влияние противоречивых примеров на обученные модели.\n",
        "\n",
        "# Задачи:\n",
        "Загрузить ранее обученную модель на датасете MNIST.\n",
        "Изучить теоретические основы атаки DeepFool.\n",
        "Реализовать атаку DeepFool с помощью фреймворка Foolbox.\n",
        "Оценить точность модели на противоречивых примерах и сравнить с результатами на обычных данных."
      ],
      "metadata": {
        "id": "9E0xbfxYexw9"
      }
    },
    {
      "cell_type": "markdown",
      "source": [
        "Шаг 1: Загруска библиотек"
      ],
      "metadata": {
        "id": "GMYwDzg8g9hF"
      }
    },
    {
      "cell_type": "code",
      "source": [
        "import tensorflow as tf\n",
        "from tensorflow.keras.datasets import mnist\n",
        "from tensorflow.keras.utils import to_categorical\n",
        "import foolbox as fb\n",
        "import numpy as np\n",
        "import matplotlib.pyplot as plt\n",
        "import tensorflow as tf"
      ],
      "metadata": {
        "id": "TRWfUWhShCbl"
      },
      "execution_count": 13,
      "outputs": []
    },
    {
      "cell_type": "markdown",
      "source": [
        "Шаг 2: Загрузим обученную модель и данные MNIST"
      ],
      "metadata": {
        "id": "s1CCispMf9Qe"
      }
    },
    {
      "cell_type": "code",
      "execution_count": 14,
      "metadata": {
        "colab": {
          "base_uri": "https://localhost:8080/"
        },
        "id": "e51HVbKXeajI",
        "outputId": "5e914b66-31c1-4388-c47b-11beb897cfa9"
      },
      "outputs": [
        {
          "output_type": "stream",
          "name": "stderr",
          "text": [
            "WARNING:absl:Compiled the loaded model, but the compiled metrics have yet to be built. `model.compile_metrics` will be empty until you train or evaluate the model.\n"
          ]
        },
        {
          "output_type": "stream",
          "name": "stdout",
          "text": [
            "\u001b[1m313/313\u001b[0m \u001b[32m━━━━━━━━━━━━━━━━━━━━\u001b[0m\u001b[37m\u001b[0m \u001b[1m1s\u001b[0m 2ms/step - accuracy: 0.9710 - loss: 0.1051\n",
            "Test accuracy on clean images: 0.9746999740600586\n"
          ]
        }
      ],
      "source": [
        "# Загрузка тестовых данных MNIST\n",
        "(_, _), (test_images, test_labels) = mnist.load_data()\n",
        "\n",
        "# Нормализация данных\n",
        "test_images = test_images / 255.0\n",
        "test_labels = to_categorical(test_labels, num_classes=10)\n",
        "\n",
        "# Загрузка обученной модели\n",
        "model = tf.keras.models.load_model('/content/mnist_model.h5')\n",
        "\n",
        "# Проверка точности модели на обычных данных\n",
        "test_loss, test_acc = model.evaluate(test_images, test_labels)\n",
        "print(f'Test accuracy on clean images: {test_acc}')"
      ]
    },
    {
      "cell_type": "markdown",
      "source": [
        "Шаг 3: Реализация атаки DeepFool с использованием Foolbox"
      ],
      "metadata": {
        "id": "lAu2EZjDgStF"
      }
    },
    {
      "cell_type": "code",
      "source": [
        "!pip install foolbox"
      ],
      "metadata": {
        "colab": {
          "base_uri": "https://localhost:8080/"
        },
        "id": "7WV4iPGngWHV",
        "outputId": "0d7c3686-c64a-4250-f4e5-b69fda875a4a"
      },
      "execution_count": 15,
      "outputs": [
        {
          "output_type": "stream",
          "name": "stdout",
          "text": [
            "Requirement already satisfied: foolbox in /usr/local/lib/python3.10/dist-packages (3.3.4)\n",
            "Requirement already satisfied: numpy in /usr/local/lib/python3.10/dist-packages (from foolbox) (1.26.4)\n",
            "Requirement already satisfied: scipy in /usr/local/lib/python3.10/dist-packages (from foolbox) (1.13.1)\n",
            "Requirement already satisfied: setuptools in /usr/local/lib/python3.10/dist-packages (from foolbox) (75.1.0)\n",
            "Requirement already satisfied: eagerpy>=0.30.0 in /usr/local/lib/python3.10/dist-packages (from foolbox) (0.30.0)\n",
            "Requirement already satisfied: GitPython>=3.0.7 in /usr/local/lib/python3.10/dist-packages (from foolbox) (3.1.43)\n",
            "Requirement already satisfied: typing-extensions>=3.7.4.1 in /usr/local/lib/python3.10/dist-packages (from foolbox) (4.12.2)\n",
            "Requirement already satisfied: requests>=2.24.0 in /usr/local/lib/python3.10/dist-packages (from foolbox) (2.32.3)\n",
            "Requirement already satisfied: gitdb<5,>=4.0.1 in /usr/local/lib/python3.10/dist-packages (from GitPython>=3.0.7->foolbox) (4.0.11)\n",
            "Requirement already satisfied: charset-normalizer<4,>=2 in /usr/local/lib/python3.10/dist-packages (from requests>=2.24.0->foolbox) (3.4.0)\n",
            "Requirement already satisfied: idna<4,>=2.5 in /usr/local/lib/python3.10/dist-packages (from requests>=2.24.0->foolbox) (3.10)\n",
            "Requirement already satisfied: urllib3<3,>=1.21.1 in /usr/local/lib/python3.10/dist-packages (from requests>=2.24.0->foolbox) (2.2.3)\n",
            "Requirement already satisfied: certifi>=2017.4.17 in /usr/local/lib/python3.10/dist-packages (from requests>=2.24.0->foolbox) (2024.12.14)\n",
            "Requirement already satisfied: smmap<6,>=3.0.1 in /usr/local/lib/python3.10/dist-packages (from gitdb<5,>=4.0.1->GitPython>=3.0.7->foolbox) (5.0.1)\n"
          ]
        }
      ]
    },
    {
      "cell_type": "code",
      "source": [
        "# Инициализация Foolbox модели\n",
        "fmodel = fb.TensorFlowModel(model, bounds=(0, 1))\n",
        "\n",
        "# Создание атаки DeepFool\n",
        "attack = fb.attacks.L2DeepFoolAttack(steps=50)\n",
        "\n",
        "# Выбор изображения для атаки (например, первое изображение из тестового набора)\n",
        "image = tf.convert_to_tensor(test_images[2], dtype=tf.float32)[None, ...]\n",
        "label = tf.convert_to_tensor(np.argmax(test_labels[0]), dtype=tf.int64)\n",
        "\n",
        "# Выполнение атаки\n",
        "adversarial_image, _, success = attack(fmodel, image, label[None], epsilons=0.01)\n",
        "\n",
        "# Вывод результатов\n",
        "plt.figure(figsize=(10, 5))\n",
        "plt.subplot(1, 2, 1)\n",
        "plt.title(\"Обычное изображение\")\n",
        "plt.imshow(image[0].numpy(), cmap=\"gray\")\n",
        "plt.axis('off')\n",
        "plt.subplot(1, 2, 2)\n",
        "plt.title(\"DeepFool атака\")\n",
        "plt.imshow(adversarial_image[0].numpy(), cmap=\"gray\")\n",
        "plt.axis('off')\n",
        "\n",
        "plt.show()"
      ],
      "metadata": {
        "colab": {
          "base_uri": "https://localhost:8080/",
          "height": 411
        },
        "id": "Fad0jTXEgbk1",
        "outputId": "2aacaac5-fe1e-424b-c993-ff2895c938b1"
      },
      "execution_count": 16,
      "outputs": [
        {
          "output_type": "display_data",
          "data": {
            "text/plain": [
              "<Figure size 1000x500 with 2 Axes>"
            ],
            "image/png": "[encoded data removed]"
          },
          "metadata": {}
        }
      ]
    },
    {
      "cell_type": "markdown",
      "source": [
        "Шаг 4: Оценка модели на противоречивых примерах."
      ],
      "metadata": {
        "id": "GgCL8aHIgXbt"
      }
    },
    {
      "cell_type": "code",
      "source": [
        "# Создание набора противоречивых примеров для всего тестового набора\n",
        "adversarial_images = []\n",
        "\n",
        "# Обработка изображений\n",
        "for i in range(len(test_images)):\n",
        "    image = tf.convert_to_tensor(test_images[i], dtype=tf.float32)[None, ...]\n",
        "    label = np.argmax(test_labels[i])\n",
        "    label = tf.convert_to_tensor(label, dtype=tf.int64)\n",
        "    advs, _, success = attack(fmodel, image, label[None], epsilons=0.01)\n",
        "    adversarial_images.append(advs)\n",
        "\n",
        "adversarial_images = tf.concat(adversarial_images, axis=0)\n",
        "\n",
        "# Оценка точности модели на противоречивых примерах\n",
        "adversarial_loss, adversarial_acc = model.evaluate(adversarial_images, test_labels)\n",
        "print(f'Accuracy on adversarial examples (DeepFool): {adversarial_acc}')"
      ],
      "metadata": {
        "colab": {
          "base_uri": "https://localhost:8080/"
        },
        "id": "nr-iey73gk3N",
        "outputId": "e3a39179-cb26-4dec-e84b-4f37df54db6b"
      },
      "execution_count": 17,
      "outputs": [
        {
          "output_type": "stream",
          "name": "stdout",
          "text": [
            "\u001b[1m313/313\u001b[0m \u001b[32m━━━━━━━━━━━━━━━━━━━━\u001b[0m\u001b[37m\u001b[0m \u001b[1m1s\u001b[0m 2ms/step - accuracy: 3.2593e-04 - loss: 63.8105\n",
            "Accuracy on adversarial examples (DeepFool): 0.00039999998989515007\n"
          ]
        }
      ]
    },
    {
      "cell_type": "markdown",
      "source": [
        "# Вывод\n",
        "Точность модели на противоречивых примерах, созданных с использованием атаки DeepFool, показывают крайне низкую точность, составившую всего 0,0004. Это подчеркивает уязвимость модели к атакам, даже когда визуальные изменения в изображении являются минимальными."
      ],
      "metadata": {
        "id": "x92Zo0nxgz-M"
      }
    }
  ]
}